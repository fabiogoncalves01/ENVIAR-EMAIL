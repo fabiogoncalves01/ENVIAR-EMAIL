{
 "cells": [
  {
   "cell_type": "code",
   "execution_count": null,
   "id": "daf47253-20ef-4998-9d61-20ee007912e3",
   "metadata": {},
   "outputs": [],
   "source": [
    "from openpyxl import load_workbook\n",
    "import os\n",
    "import win32com.client as win32\n",
    "\n",
    "outlook = win32.Dispatch('outlook.application')\n",
    "\n",
    "nome_arquivo = r\"Caminho do diretório\"\n",
    "\n",
    "# Carregar a planilha\n",
    "planilha_aberta = load_workbook(filename=nome_arquivo)\n",
    "sheet_selecionada = planilha_aberta['aba da planilha']\n",
    "\n",
    "for linha in range(2, len(sheet_selecionada['A']) + 1):\n",
    "    \n",
    "    nome = sheet_selecionada['A%s' % linha].value\n",
    "    nomeCompleto = sheet_selecionada['B%s' % linha].value\n",
    "    email = sheet_selecionada['C%s' % linha].value\n",
    "    \n",
    "    emailOutlook = outlook.CreateItem(0)\n",
    "\n",
    "    emailOutlook.To = email\n",
    "    emailOutlook.Subject = \"Titulo \" + nomeCompleto\n",
    "    emailOutlook.HTMLBody = f\"\"\"\n",
    "    <p>Saudação<b>{nome}</b>.</p>\n",
    "    <p>Corpo do email.</p>\n",
    "    <p>Encerramento do email.</p>\n",
    "    \n",
    "    \"\"\"\n",
    "    \n",
    "    anexoEmail = \"Caminho onde esta as planilhas\" + nomeCompleto + \".xlsx\"\n",
    "    \n",
    "    # Verifica se o arquivo existe antes de anexar\n",
    "    if os.path.exists(anexoEmail):\n",
    "        emailOutlook.Attachments.Add(anexoEmail)\n",
    "    else:\n",
    "        print(f\"Erro: O arquivo {anexoEmail} não foi encontrado.\")\n",
    "\n",
    "    emailOutlook.save()  # save = Cria e salva o email, Send() - Enviar o email\n"
   ]
  }
 ],
 "metadata": {
  "kernelspec": {
   "display_name": "Python 3 (ipykernel)",
   "language": "python",
   "name": "python3"
  },
  "language_info": {
   "codemirror_mode": {
    "name": "ipython",
    "version": 3
   },
   "file_extension": ".py",
   "mimetype": "text/x-python",
   "name": "python",
   "nbconvert_exporter": "python",
   "pygments_lexer": "ipython3",
   "version": "3.12.4"
  }
 },
 "nbformat": 4,
 "nbformat_minor": 5
}
